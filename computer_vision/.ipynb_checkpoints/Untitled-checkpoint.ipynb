{
 "cells": [
  {
   "cell_type": "markdown",
   "metadata": {},
   "source": [
    "ex3:\n",
    "\n",
    "A = [(points2(1,:).*points1(1,:))' , (points2(1,:).*points1(2,:))' , (points2(1,:))' , (points2(2,:).*points1(1,:))' , (points2(2,:).*points1(2,:))' , (points2(2,:))',(points1(1,:))' , (points1(2,:))' ,ones(55,1)];\n",
    "\n",
    "Fundamental matrix which arises from this is correct because:\n",
    "\n",
    "points2'*F*points1 = 0\n",
    "\n",
    "Q4\n",
    "\n",
    "We can verify E is correct by taking:\n",
    "\n",
    "SVD(E) which results in singular values of\n",
    "\n",
    "8.3116, 8.3116 and 0 consistent with result9.17 in hzbook in the vgg group website.\n",
    "\n",
    "Q5:\n",
    "\n",
    "basically matrix A encapsulates the linear triangulation by minimizing the algebraic error, each term measures the difference between the projected and true points and this is minimized across both cameras.\n",
    "\n",
    "\n"
   ]
  },
  {
   "cell_type": "code",
   "execution_count": null,
   "metadata": {},
   "outputs": [],
   "source": []
  }
 ],
 "metadata": {
  "kernelspec": {
   "display_name": "Python 3",
   "language": "python",
   "name": "python3"
  },
  "language_info": {
   "codemirror_mode": {
    "name": "ipython",
    "version": 3
   },
   "file_extension": ".py",
   "mimetype": "text/x-python",
   "name": "python",
   "nbconvert_exporter": "python",
   "pygments_lexer": "ipython3",
   "version": "3.6.5"
  }
 },
 "nbformat": 4,
 "nbformat_minor": 2
}
