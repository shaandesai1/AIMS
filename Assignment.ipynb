{
 "cells": [
  {
   "cell_type": "code",
   "execution_count": null,
   "metadata": {
    "collapsed": true
   },
   "outputs": [],
   "source": [
    "G = graphs.Sensor()\n",
    "fig,axes = plt.subplots(1,2,figsize=(7,7))\n",
    "axes[0].spy(G.W,markersize=0.5)\n",
    "G.plot(ax=axes[1])\n",
    "L = G.L.toarray()\n",
    "G.compute_fourier_basis()\n",
    "fsig = G.U[:,0]*0.5 + G.U[:,1]*0.3 + G.U[:,2]*0.2"
   ]
  }
 ],
 "metadata": {
  "kernelspec": {
   "display_name": "Python 3",
   "language": "python",
   "name": "python3"
  },
  "language_info": {
   "codemirror_mode": {
    "name": "ipython",
    "version": 3
   },
   "file_extension": ".py",
   "mimetype": "text/x-python",
   "name": "python",
   "nbconvert_exporter": "python",
   "pygments_lexer": "ipython3",
   "version": "3.6.5"
  }
 },
 "nbformat": 4,
 "nbformat_minor": 2
}
